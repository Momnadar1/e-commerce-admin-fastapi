{
 "cells": [
  {
   "cell_type": "code",
   "execution_count": 86,
   "metadata": {},
   "outputs": [
    {
     "name": "stdout",
     "output_type": "stream",
     "text": [
      "Database 'walmart' created successfully.\n"
     ]
    }
   ],
   "source": [
    "import mysql.connector\n",
    "\n",
    "# Replace these with your own database credentials\n",
    "host = \"localhost\"\n",
    "user = \"root\"\n",
    "password = \"root\"\n",
    "database_name = \"walmart\"\n",
    "port = 3306\n",
    "\n",
    "# Establish a connection to the MySQL server (usually on port 3306)\n",
    "connection = mysql.connector.connect(\n",
    "    host=host,\n",
    "    user=user,\n",
    "    password=password,\n",
    ")\n",
    "\n",
    "# Create a cursor object to interact with the database\n",
    "cursor = connection.cursor()\n",
    "\n",
    "# Define the SQL command to create a new database\n",
    "create_database_query = f\"CREATE DATABASE if not exists {database_name}\"\n",
    "\n",
    "# Execute the SQL command to create the database\n",
    "cursor.execute(create_database_query)\n",
    "\n",
    "# Close the cursor and the database connection\n",
    "cursor.close()\n",
    "connection.close()\n",
    "\n",
    "print(f\"Database '{database_name}' created successfully.\")\n"
   ]
  },
  {
   "cell_type": "code",
   "execution_count": 88,
   "metadata": {},
   "outputs": [],
   "source": [
    "from sqlalchemy import create_engine, Column, String, Integer, Float, Date, Time, ForeignKey\n",
    "from sqlalchemy.orm import sessionmaker\n",
    "from sqlalchemy.ext.declarative import declarative_base\n",
    "from random import randint, uniform\n",
    "from datetime import datetime\n",
    "\n",
    "host = \"localhost\"\n",
    "user = \"root\"\n",
    "password = \"root\"\n",
    "database_name = \"walmart\"\n",
    "port = 3306\n",
    "\n",
    "# Define your MySQL database connection URL\n",
    "DATABASE_URL = f\"mysql+pymysql://{user}:{password}@{host}:{port}/{database_name}\"\n",
    "\n",
    "# Create an SQLAlchemy engine\n",
    "engine = create_engine(DATABASE_URL)\n",
    "\n",
    "# Create a session to interact with the database\n",
    "SessionLocal = sessionmaker(autocommit=False, autoflush=False, bind=engine)\n",
    "\n",
    "# Define the table model for Sales\n",
    "Base = declarative_base()\n",
    "\n",
    "# Define the table model for Product\n",
    "class Product(Base):\n",
    "    __tablename__ = \"product\"\n",
    "\n",
    "    id = Column(Integer, primary_key=True, autoincrement = True)\n",
    "    name = Column(String(255))\n",
    "    description = Column(String(255))\n",
    "    price = Column(Float)\n",
    "    category = Column(String(255))\n",
    "    quantity_in_stock = Column(Integer)\n",
    "    \n",
    "\n",
    "class Sale(Base):\n",
    "    __tablename__ = \"sale\"\n",
    "\n",
    "    invoice_id = Column(Integer, primary_key=True, autoincrement = True)\n",
    "    branch = Column(String(255))\n",
    "    city = Column(String(255))\n",
    "    customer_type = Column(String(255))\n",
    "    gender = Column(String(255))\n",
    "    product_line = Column(String(100))\n",
    "    unit_price = Column(Float)\n",
    "    quantity = Column(Integer)\n",
    "    tax_pct = Column(Float(6, 4))\n",
    "    total = Column(Float(12, 4))\n",
    "    date = Column(Date)\n",
    "    time = Column(Time)\n",
    "    payment = Column(String(255))\n",
    "    cogs = Column(Float(10, 2))\n",
    "    gross_margin_pct = Column(Float(11, 9))\n",
    "    gross_income = Column(Float(12, 4))\n",
    "    rating = Column(Float(2, 1))\n",
    "    product_id = Column(Integer, ForeignKey(\"product.id\"))\n",
    "\n",
    "# Define the table model for Inventory\n",
    "class Inventory(Base):\n",
    "    __tablename__ = \"inventory\"\n",
    "\n",
    "    inventory_id = Column(Integer, primary_key=True, autoincrement = True)\n",
    "    product_id = Column(Integer, ForeignKey(\"product.id\"))\n",
    "    quantity_in_stock = Column(Integer)\n",
    "\n",
    "# Create the tables in the database\n",
    "Base.metadata.create_all(engine)\n"
   ]
  },
  {
   "cell_type": "code",
   "execution_count": 53,
   "metadata": {},
   "outputs": [],
   "source": [
    "# ! d:/Work/Job/Forsit/Test/venv/Scripts/python.exe -m pip install ipykernel -U --force-reinstall"
   ]
  },
  {
   "cell_type": "code",
   "execution_count": 89,
   "metadata": {},
   "outputs": [],
   "source": [
    "SessionLocal = sessionmaker(autocommit=False, autoflush=False, bind=engine)"
   ]
  },
  {
   "cell_type": "code",
   "execution_count": 90,
   "metadata": {},
   "outputs": [],
   "source": [
    "with SessionLocal() as session:\n",
    "    for i in range(30):\n",
    "        product = Product(\n",
    "            name=f\"Product {i + 1}\",\n",
    "            description=f\"Description for Product {i + 1}\",\n",
    "            price=10.0 + (i * 2.0),  # Example: Price increases by 2 for each product\n",
    "            category=\"Category A\",\n",
    "            quantity_in_stock=100 + (i * 5)  # Example: Quantity increases by 5 for each product\n",
    "        )\n",
    "        session.add(product)\n",
    "    session.commit()"
   ]
  },
  {
   "cell_type": "code",
   "execution_count": 91,
   "metadata": {},
   "outputs": [
    {
     "name": "stdout",
     "output_type": "stream",
     "text": [
      "Data inserted successfully.\n"
     ]
    }
   ],
   "source": [
    "product_ids = [1, 2, 3, ..., 31]  # Add the actual product IDs\n",
    "\n",
    "# Generate and insert 10 sales entries for each product\n",
    "with SessionLocal() as session:\n",
    "    for product_id in range(1, 30):\n",
    "        for _ in range(1,11):\n",
    "            unit_price=uniform(10.0, 50.0)\n",
    "            quantity=randint(1, 5)\n",
    "            cogs=unit_price*quantity\n",
    "            tax_pct=0.05\n",
    "            total = cogs*(tax_pct*cogs)\n",
    "            sale = Sale(\n",
    "                product_id=product_id,\n",
    "                # invoice_id=f\"INV_{product_id}_{_}\",\n",
    "                branch=\"Branch A\",\n",
    "                city=\"City X\",\n",
    "                customer_type=\"Type A\",\n",
    "                gender=\"Male\",\n",
    "                product_line=\"Product Line 1\",\n",
    "                unit_price=uniform(10.0, 50.0),\n",
    "                quantity=randint(1, 5),\n",
    "                tax_pct=tax_pct,\n",
    "                date=datetime.now().date(),\n",
    "                time=datetime.now().time(),\n",
    "                payment=\"Credit Card\",\n",
    "                cogs=cogs,\n",
    "                total=total,\n",
    "                gross_margin_pct=0.2,\n",
    "                gross_income=total - cogs,  # Calculate this based on total and cogs\n",
    "                rating=uniform(3.0, 5.0),\n",
    "            )\n",
    "            session.add(sale)\n",
    "    session.commit()\n",
    "\n",
    "print(\"Data inserted successfully.\")"
   ]
  },
  {
   "cell_type": "code",
   "execution_count": 92,
   "metadata": {},
   "outputs": [
    {
     "name": "stdout",
     "output_type": "stream",
     "text": [
      "Random stock numbers inserted successfully.\n"
     ]
    }
   ],
   "source": [
    "import random\n",
    "\n",
    "# List of product IDs for which you want to generate random stock numbers\n",
    "# product_ids = [1, 2, 3, ..., 29]  # Add the actual product IDs\n",
    "inventory_data = []\n",
    "\n",
    "# Generate and store random stock numbers for each product\n",
    "for product_id in range(1, 30):\n",
    "    # Generate a random stock number between 10 and 500 (you can adjust the range)\n",
    "    stock_number = random.randint(1, 11)\n",
    "    inventory_data.append((product_id, stock_number))\n",
    "    \n",
    "# Insert inventory data into the database\n",
    "with SessionLocal() as session:\n",
    "    for product_id, quantity_in_stock in inventory_data:\n",
    "        inventory = Inventory(product_id=product_id, quantity_in_stock=quantity_in_stock)\n",
    "        session.add(inventory)\n",
    "    session.commit()\n",
    "\n",
    "print(\"Random stock numbers inserted successfully.\")"
   ]
  }
 ],
 "metadata": {
  "kernelspec": {
   "display_name": "venv",
   "language": "python",
   "name": "python3"
  },
  "language_info": {
   "codemirror_mode": {
    "name": "ipython",
    "version": 3
   },
   "file_extension": ".py",
   "mimetype": "text/x-python",
   "name": "python",
   "nbconvert_exporter": "python",
   "pygments_lexer": "ipython3",
   "version": "3.7.9"
  },
  "orig_nbformat": 4
 },
 "nbformat": 4,
 "nbformat_minor": 2
}
